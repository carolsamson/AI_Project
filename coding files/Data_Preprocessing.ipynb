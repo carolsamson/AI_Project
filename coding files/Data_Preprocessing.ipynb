{
 "cells": [
  {
   "cell_type": "code",
   "execution_count": 7,
   "id": "b34fcfbf",
   "metadata": {},
   "outputs": [],
   "source": [
    "import pandas as pd\n",
    "\n",
    "#Load the dataset into a dataframe\n",
    "df = pd.read_csv(\"C:/Users/esrav/Desktop/projects/sem 2/AI project/final.csv\")"
   ]
  },
  {
   "cell_type": "code",
   "execution_count": 9,
   "id": "8864c816",
   "metadata": {},
   "outputs": [
    {
     "name": "stdout",
     "output_type": "stream",
     "text": [
      "         Date Company      Open      High       Low     Close     Volume  \\\n",
      "0  1980-12-12     JNJ  0.644482  0.669556  0.644482  0.669556  5011200.0   \n",
      "1  1980-12-15     JNJ  0.669556  0.688129  0.668627  0.677914  5932800.0   \n",
      "2  1980-12-16     JNJ  0.677914  0.707631  0.676056  0.704845  9475200.0   \n",
      "3  1980-12-17     JNJ  0.705773  0.713202  0.705773  0.709487  6801600.0   \n",
      "4  1980-12-18     JNJ  0.709488  0.715989  0.703916  0.706702  4603200.0   \n",
      "\n",
      "       Sector  EMA_50  EMA_200  RSI  MACD  MACD_Signal  MACD_Hist  Season  \n",
      "0  Healthcare     NaN      NaN  NaN   NaN          NaN        NaN  Winter  \n",
      "1  Healthcare     NaN      NaN  NaN   NaN          NaN        NaN  Winter  \n",
      "2  Healthcare     NaN      NaN  NaN   NaN          NaN        NaN  Winter  \n",
      "3  Healthcare     NaN      NaN  NaN   NaN          NaN        NaN  Winter  \n",
      "4  Healthcare     NaN      NaN  NaN   NaN          NaN        NaN  Winter  \n"
     ]
    }
   ],
   "source": [
    "print(df.head())"
   ]
  },
  {
   "cell_type": "code",
   "execution_count": 10,
   "id": "088ed142",
   "metadata": {},
   "outputs": [
    {
     "name": "stdout",
     "output_type": "stream",
     "text": [
      "               Date   Company        Open        High         Low       Close  \\\n",
      "1346101  2024-06-13  DX-Y.NYB  104.690002  105.279999  104.639999  105.199997   \n",
      "1346102  2024-06-14  DX-Y.NYB  105.230003  105.809998  105.180000  105.550003   \n",
      "1346103  2024-06-17  DX-Y.NYB  105.510002  105.650002  105.309998  105.320000   \n",
      "1346104  2024-06-18  DX-Y.NYB  105.300003  105.559998  105.129997  105.260002   \n",
      "1346105  2024-06-20  DX-Y.NYB  105.199997  105.669998  105.199997  105.589996   \n",
      "\n",
      "         Volume Sector      EMA_50     EMA_200        RSI      MACD  \\\n",
      "1346101     0.0  Index  104.804044  104.305825  54.643913 -0.031199   \n",
      "1346102     0.0  Index  104.833298  104.318205  58.341592  0.030957   \n",
      "1346103     0.0  Index  104.852384  104.328173  55.159192  0.060954   \n",
      "1346104     0.0  Index  104.868369  104.337445  54.326711  0.078975   \n",
      "1346105     0.0  Index  104.896668  104.349908  58.074632  0.118519   \n",
      "\n",
      "         MACD_Signal  MACD_Hist  Season  \n",
      "1346101    -0.110334   0.079135  Summer  \n",
      "1346102    -0.082076   0.113033  Summer  \n",
      "1346103    -0.053470   0.114424  Summer  \n",
      "1346104    -0.026981   0.105956  Summer  \n",
      "1346105     0.002119   0.116399  Summer  \n"
     ]
    }
   ],
   "source": [
    "print(df.tail())"
   ]
  },
  {
   "cell_type": "code",
   "execution_count": 8,
   "id": "0234d04e",
   "metadata": {},
   "outputs": [
    {
     "name": "stdout",
     "output_type": "stream",
     "text": [
      "<class 'pandas.core.frame.DataFrame'>\n",
      "RangeIndex: 1346106 entries, 0 to 1346105\n",
      "Data columns (total 15 columns):\n",
      " #   Column       Non-Null Count    Dtype  \n",
      "---  ------       --------------    -----  \n",
      " 0   Date         1346106 non-null  object \n",
      " 1   Company      1346106 non-null  object \n",
      " 2   Open         937771 non-null   float64\n",
      " 3   High         937771 non-null   float64\n",
      " 4   Low          937771 non-null   float64\n",
      " 5   Close        937771 non-null   float64\n",
      " 6   Volume       937771 non-null   float64\n",
      " 7   Sector       937771 non-null   object \n",
      " 8   EMA_50       953996 non-null   float64\n",
      " 9   EMA_200      936292 non-null   float64\n",
      " 10  RSI          1344546 non-null  float64\n",
      " 11  MACD         956829 non-null   float64\n",
      " 12  MACD_Signal  955885 non-null   float64\n",
      " 13  MACD_Hist    955885 non-null   float64\n",
      " 14  Season       1346106 non-null  object \n",
      "dtypes: float64(11), object(4)\n",
      "memory usage: 154.0+ MB\n",
      "None\n",
      "                Open           High            Low          Close  \\\n",
      "count  937771.000000  937771.000000  937771.000000  937771.000000   \n",
      "mean       87.385307      88.398389      86.403388      87.422928   \n",
      "std       282.157562     285.315021     279.069407     282.235422   \n",
      "min         0.000000       0.017356       0.017356       0.017356   \n",
      "25%         6.600000       6.708661       6.502810       6.611818   \n",
      "50%        24.066529      24.392070      23.730000      24.070557   \n",
      "75%        68.570000      69.400002      67.709837      68.578270   \n",
      "max      8097.979980    8211.400391    8010.000000    8099.959961   \n",
      "\n",
      "             Volume         EMA_50        EMA_200           RSI  \\\n",
      "count  9.377710e+05  953996.000000  936292.000000  1.344546e+06   \n",
      "mean   1.726464e+07      94.723087      92.691869  6.619608e+01   \n",
      "std    8.311645e+07     315.609917     300.676377  2.379452e+01   \n",
      "min    0.000000e+00       0.023870       0.038878  0.000000e+00   \n",
      "25%    7.174000e+05       7.079889       7.566547  4.788635e+01   \n",
      "50%    2.624500e+06      25.304440      25.645079  5.948677e+01   \n",
      "75%    7.953031e+06      73.647093      72.901908  1.000000e+02   \n",
      "max    9.230856e+09    7661.913990    7078.326733  1.000000e+02   \n",
      "\n",
      "                MACD    MACD_Signal     MACD_Hist  \n",
      "count  956829.000000  955885.000000  9.558850e+05  \n",
      "mean        0.385566       0.384072  1.257958e-03  \n",
      "std         5.910711       5.593333  1.688887e+00  \n",
      "min      -422.071271    -324.455424 -1.760427e+02  \n",
      "25%        -0.131962      -0.119139 -6.973764e-02  \n",
      "50%         0.035360       0.035970  7.660000e-07  \n",
      "75%         0.445378       0.429047  7.700163e-02  \n",
      "max       232.275563     216.523878  8.770965e+01  \n"
     ]
    }
   ],
   "source": [
    "# Step 2: Initial Exploration\n",
    "# Get basic information about the dataset\n",
    "print(df.info())\n",
    "\n",
    "# Get summary statistics for numerical columns\n",
    "print(df.describe())\n",
    "\n"
   ]
  },
  {
   "cell_type": "code",
   "execution_count": 11,
   "id": "29ccb3d4",
   "metadata": {},
   "outputs": [
    {
     "name": "stdout",
     "output_type": "stream",
     "text": [
      "Date                0\n",
      "Company             0\n",
      "Open           408335\n",
      "High           408335\n",
      "Low            408335\n",
      "Close          408335\n",
      "Volume         408335\n",
      "Sector         408335\n",
      "EMA_50         392110\n",
      "EMA_200        409814\n",
      "RSI              1560\n",
      "MACD           389277\n",
      "MACD_Signal    390221\n",
      "MACD_Hist      390221\n",
      "Season              0\n",
      "dtype: int64\n"
     ]
    }
   ],
   "source": [
    "# Check for missing values\n",
    "print(df.isnull().sum())"
   ]
  },
  {
   "cell_type": "code",
   "execution_count": 12,
   "id": "f3d625fa",
   "metadata": {},
   "outputs": [],
   "source": [
    "#dropping the null values\n",
    "df.dropna(inplace=True)"
   ]
  },
  {
   "cell_type": "code",
   "execution_count": 13,
   "id": "280f1770",
   "metadata": {},
   "outputs": [
    {
     "name": "stdout",
     "output_type": "stream",
     "text": [
      "Date           0\n",
      "Company        0\n",
      "Open           0\n",
      "High           0\n",
      "Low            0\n",
      "Close          0\n",
      "Volume         0\n",
      "Sector         0\n",
      "EMA_50         0\n",
      "EMA_200        0\n",
      "RSI            0\n",
      "MACD           0\n",
      "MACD_Signal    0\n",
      "MACD_Hist      0\n",
      "Season         0\n",
      "dtype: int64\n"
     ]
    }
   ],
   "source": [
    "# Check for missing values\n",
    "print(df.isnull().sum())"
   ]
  },
  {
   "cell_type": "code",
   "execution_count": 14,
   "id": "b2ec87fd",
   "metadata": {},
   "outputs": [
    {
     "data": {
      "text/plain": [
       "0"
      ]
     },
     "execution_count": 14,
     "metadata": {},
     "output_type": "execute_result"
    }
   ],
   "source": [
    "#checking duplicate values\n",
    "df.duplicated().sum()"
   ]
  },
  {
   "cell_type": "code",
   "execution_count": 15,
   "id": "d53e55e0",
   "metadata": {},
   "outputs": [
    {
     "name": "stdout",
     "output_type": "stream",
     "text": [
      "Date            object\n",
      "Company         object\n",
      "Open           float64\n",
      "High           float64\n",
      "Low            float64\n",
      "Close          float64\n",
      "Volume         float64\n",
      "Sector          object\n",
      "EMA_50         float64\n",
      "EMA_200        float64\n",
      "RSI            float64\n",
      "MACD           float64\n",
      "MACD_Signal    float64\n",
      "MACD_Hist      float64\n",
      "Season          object\n",
      "dtype: object\n"
     ]
    }
   ],
   "source": [
    "print(df.dtypes)"
   ]
  },
  {
   "cell_type": "code",
   "execution_count": 16,
   "id": "691b99ec",
   "metadata": {},
   "outputs": [],
   "source": [
    "#data types conversion\n",
    "df['Date'] = pd.to_datetime(df['Date'])"
   ]
  },
  {
   "cell_type": "code",
   "execution_count": 17,
   "id": "b8932485",
   "metadata": {},
   "outputs": [
    {
     "name": "stdout",
     "output_type": "stream",
     "text": [
      "<class 'pandas.core.frame.DataFrame'>\n",
      "Index: 914289 entries, 199 to 1346105\n",
      "Data columns (total 15 columns):\n",
      " #   Column       Non-Null Count   Dtype         \n",
      "---  ------       --------------   -----         \n",
      " 0   Date         914289 non-null  datetime64[ns]\n",
      " 1   Company      914289 non-null  object        \n",
      " 2   Open         914289 non-null  float64       \n",
      " 3   High         914289 non-null  float64       \n",
      " 4   Low          914289 non-null  float64       \n",
      " 5   Close        914289 non-null  float64       \n",
      " 6   Volume       914289 non-null  float64       \n",
      " 7   Sector       914289 non-null  object        \n",
      " 8   EMA_50       914289 non-null  float64       \n",
      " 9   EMA_200      914289 non-null  float64       \n",
      " 10  RSI          914289 non-null  float64       \n",
      " 11  MACD         914289 non-null  float64       \n",
      " 12  MACD_Signal  914289 non-null  float64       \n",
      " 13  MACD_Hist    914289 non-null  float64       \n",
      " 14  Season       914289 non-null  object        \n",
      "dtypes: datetime64[ns](1), float64(11), object(3)\n",
      "memory usage: 111.6+ MB\n",
      "None\n"
     ]
    }
   ],
   "source": [
    "#printing the information after type conversion\n",
    "print(df.info())"
   ]
  },
  {
   "cell_type": "code",
   "execution_count": 18,
   "id": "86ebf7d7",
   "metadata": {},
   "outputs": [
    {
     "name": "stdout",
     "output_type": "stream",
     "text": [
      "(914289, 15)\n"
     ]
    }
   ],
   "source": [
    "#checking the shape of the dataset\n",
    "print(df.shape)"
   ]
  },
  {
   "cell_type": "code",
   "execution_count": null,
   "id": "efdfbfa1",
   "metadata": {},
   "outputs": [],
   "source": []
  }
 ],
 "metadata": {
  "kernelspec": {
   "display_name": "Python 3 (ipykernel)",
   "language": "python",
   "name": "python3"
  },
  "language_info": {
   "codemirror_mode": {
    "name": "ipython",
    "version": 3
   },
   "file_extension": ".py",
   "mimetype": "text/x-python",
   "name": "python",
   "nbconvert_exporter": "python",
   "pygments_lexer": "ipython3",
   "version": "3.11.5"
  }
 },
 "nbformat": 4,
 "nbformat_minor": 5
}
